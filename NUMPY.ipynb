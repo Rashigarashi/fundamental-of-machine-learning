{
 "cells": [
  {
   "cell_type": "code",
   "execution_count": 1,
   "id": "2afea31c-108e-4430-9163-36b76ac30dd4",
   "metadata": {},
   "outputs": [
    {
     "name": "stdout",
     "output_type": "stream",
     "text": [
      "[1 2 3 4 5]\n"
     ]
    }
   ],
   "source": [
    "#numpy.array()\n",
    "import numpy as np\n",
    "arr = np.array([1,2,3,4,5])\n",
    "print(arr)"
   ]
  },
  {
   "cell_type": "code",
   "execution_count": 4,
   "id": "40cabbde-fa66-4809-992f-c082f872faed",
   "metadata": {},
   "outputs": [
    {
     "name": "stdout",
     "output_type": "stream",
     "text": [
      "Size of each element of list in bytes:  48\n",
      "Size of the whole list in bythes:  48000\n",
      "Size of each element of Numpy array in bytes:  8\n",
      "Size of the whole Numpy array in bytes:  8000\n"
     ]
    }
   ],
   "source": [
    "import sys\n",
    "S=range(1000)\n",
    "print(\"Size of each element of list in bytes: \",sys.getsizeof(S))\n",
    "print(\"Size of the whole list in bythes: \",sys.getsizeof(S)*len(S))\n",
    "D=np.arange(1000)\n",
    "print(\"Size of each element of Numpy array in bytes: \",D.itemsize)\n",
    "print(\"Size of the whole Numpy array in bytes: \",D.size*D.itemsize)"
   ]
  },
  {
   "cell_type": "code",
   "execution_count": 5,
   "id": "f4e2b6f1-81cd-489a-b2a9-b1ec7b89c7ff",
   "metadata": {},
   "outputs": [
    {
     "name": "stdout",
     "output_type": "stream",
     "text": [
      "45\n"
     ]
    }
   ],
   "source": [
    "#0-D arrays\n",
    "arr = np.array(45)\n",
    "print(arr)"
   ]
  },
  {
   "cell_type": "code",
   "execution_count": 9,
   "id": "e0777a72-877b-4bc4-a93b-8af06535649e",
   "metadata": {},
   "outputs": [
    {
     "name": "stdout",
     "output_type": "stream",
     "text": [
      "[[1 2 3]\n",
      " [4 5 6]]\n"
     ]
    }
   ],
   "source": [
    "#2D Arrays\n",
    "arr=np.array([[1,2,3], [4,5,6]])\n",
    "print(arr)"
   ]
  },
  {
   "cell_type": "code",
   "execution_count": 11,
   "id": "9a033641-3493-4db5-b19d-9a54e8f87b03",
   "metadata": {},
   "outputs": [
    {
     "name": "stdout",
     "output_type": "stream",
     "text": [
      "[[[1 2 3]\n",
      "  [4 5 6]]\n",
      "\n",
      " [[1 2 3]\n",
      "  [4 5 6]]]\n"
     ]
    }
   ],
   "source": [
    "#3D Arrays\n",
    "arr = np.array([[[1,2,3], [4,5,6]],  [[1,2,3], [4,5,6]]])\n",
    "print(arr)"
   ]
  },
  {
   "cell_type": "code",
   "execution_count": 14,
   "id": "ac2ca142-fc07-4a82-a361-c8b87f0b1257",
   "metadata": {},
   "outputs": [
    {
     "name": "stdout",
     "output_type": "stream",
     "text": [
      "[[0. 0. 0.]\n",
      " [0. 0. 0.]]\n",
      "Data type of the array:  float64\n",
      "\n",
      " array of zeros with integer elements: \n",
      " [[0 0 0]\n",
      " [0 0 0]\n",
      " [0 0 0]]\n"
     ]
    }
   ],
   "source": [
    "import numpy as np\n",
    "zeros_arr =np.zeros((2,3))\n",
    "print(zeros_arr)\n",
    "print(\"Data type of the array: \",zeros_arr.dtype)\n",
    "zeros_arr_int = np.zeros((3,3), dtype=np.int16)\n",
    "print(\"\\n array of zeros with integer elements: \\n\",zeros_arr_int)"
   ]
  },
  {
   "cell_type": "code",
   "execution_count": 15,
   "id": "c1f52c3a-90c2-45b3-8a5f-349faa5590f0",
   "metadata": {},
   "outputs": [
    {
     "name": "stdout",
     "output_type": "stream",
     "text": [
      "[1. 1. 1. 1. 1. 1.]\n",
      "\n",
      "Data type of the array:  float64\n"
     ]
    }
   ],
   "source": [
    "import numpy as np\n",
    "ones_arr =np.ones(6)\n",
    "print(ones_arr)\n",
    "print(\"\\nData type of the array: \",ones_arr.dtype)"
   ]
  },
  {
   "cell_type": "code",
   "execution_count": 17,
   "id": "a4dacf16-341f-49bc-a1f9-c069a91f6588",
   "metadata": {},
   "outputs": [
    {
     "name": "stdout",
     "output_type": "stream",
     "text": [
      "[[1. 1.]\n",
      " [1. 1.]\n",
      " [1. 1.]]\n",
      "\n",
      "Data type of the array:  float64\n"
     ]
    }
   ],
   "source": [
    "import numpy as np\n",
    "empty_arr = np.empty((3,2))\n",
    "print(empty_arr)\n",
    "print(\"\\nData type of the array: \",empty_arr.dtype)"
   ]
  },
  {
   "cell_type": "code",
   "execution_count": 18,
   "id": "72265e30-816b-4944-8bb6-42b2edd43fd7",
   "metadata": {},
   "outputs": [
    {
     "name": "stdout",
     "output_type": "stream",
     "text": [
      "[[1. 0. 0.]\n",
      " [0. 1. 0.]\n",
      " [0. 0. 1.]]\n",
      "\n",
      " [[1. 0. 0. 0.]\n",
      " [0. 1. 0. 0.]\n",
      " [0. 0. 1. 0.]\n",
      " [0. 0. 0. 1.]]\n"
     ]
    }
   ],
   "source": [
    "import numpy as np\n",
    "identity_matrix = np.eye(3)\n",
    "print(identity_matrix)\n",
    "identity_matrix = np.eye(4)\n",
    "print(\"\\n\",identity_matrix)"
   ]
  },
  {
   "cell_type": "code",
   "execution_count": 19,
   "id": "e14034b6-b91b-43ac-9cec-c1ea7bacbf82",
   "metadata": {},
   "outputs": [
    {
     "name": "stdout",
     "output_type": "stream",
     "text": [
      "float64\n",
      "int32\n"
     ]
    }
   ],
   "source": [
    "import numpy as np\n",
    "arr1 =np.array([1,2,3], dtype=np.float64)\n",
    "arr2 =np.array([1,2,3], dtype=np.int32)\n",
    "print(arr1.dtype)\n",
    "print(arr2.dtype)"
   ]
  },
  {
   "cell_type": "code",
   "execution_count": 20,
   "id": "d17126db-0ce0-463a-9572-bb1a3f905023",
   "metadata": {},
   "outputs": [
    {
     "name": "stdout",
     "output_type": "stream",
     "text": [
      "Before converting:  [1 2 3] int64\n",
      "After converting:  [1. 2. 3.] float32\n"
     ]
    }
   ],
   "source": [
    "import numpy as np\n",
    "arr = np.array([1,2,3])\n",
    "print(\"Before converting: \", arr, arr.dtype)\n",
    "new_arr = arr.astype('f')\n",
    "print(\"After converting: \", new_arr, new_arr.dtype)"
   ]
  },
  {
   "cell_type": "code",
   "execution_count": 21,
   "id": "7dbfa0f5-ceb5-42c0-ad6b-af7a7869e3e8",
   "metadata": {},
   "outputs": [
    {
     "name": "stdout",
     "output_type": "stream",
     "text": [
      "array 1\n",
      " [0 1 2 3 4 5 6 7 8 9] int64\n",
      "array \u0002n [0 1 2 3 4 5 6 7 8 9] float64\n",
      "new array \n",
      " [0. 1. 2. 3. 4. 5. 6. 7. 8. 9.] float64\n"
     ]
    }
   ],
   "source": [
    "import numpy as np\n",
    "arr1 =np.arange(10)\n",
    "arr2 =np.random.randn(10)\n",
    "print(\"array 1\\n\",arr1, arr1.dtype)\n",
    "print(\"array \\2n\",arr1, arr2.dtype)\n",
    "new_arr =arr1.astype(arr2.dtype)\n",
    "print(\"new array \\n\",new_arr, new_arr.dtype)"
   ]
  },
  {
   "cell_type": "code",
   "execution_count": 22,
   "id": "e6754f8e-0362-422f-8c4f-0099aa1b3214",
   "metadata": {},
   "outputs": [
    {
     "name": "stdout",
     "output_type": "stream",
     "text": [
      "['hello' 'world' 'numpy']\n"
     ]
    }
   ],
   "source": [
    "import numpy as np\n",
    "str_arr = np.array(['hello', 'world', 'numpy'])\n",
    "print(str_arr)"
   ]
  },
  {
   "cell_type": "code",
   "execution_count": 1,
   "id": "a4c5e733-cd61-4c90-bc57-bae1c114ec66",
   "metadata": {},
   "outputs": [
    {
     "name": "stdout",
     "output_type": "stream",
     "text": [
      "[ 6.  8. 10. 12.]\n",
      "[-4. -4. -4. -4.]\n",
      "[ 5. 12. 21. 32.]\n",
      "[0.2        0.33333333 0.42857143 0.5       ]\n",
      "[1.0000e+00 6.4000e+01 2.1870e+03 6.5536e+04]\n"
     ]
    }
   ],
   "source": [
    "import numpy as np\n",
    "a=np.array([1.,2.,3.,4.])\n",
    "b=np.array([5.,6.,7.,8.])\n",
    "print(a+b)\n",
    "print(a-b)\n",
    "print(a*b)\n",
    "print(a/b)\n",
    "print(a**b)\n"
   ]
  },
  {
   "cell_type": "code",
   "execution_count": 2,
   "id": "5f3cb7fc-7b68-4aa3-b64b-000af96d305d",
   "metadata": {},
   "outputs": [
    {
     "name": "stdout",
     "output_type": "stream",
     "text": [
      "\n",
      " [[ 0  1  2]\n",
      " [ 3  4  5]\n",
      " [ 6  7  8]\n",
      " [ 9 10 11]]\n",
      "\n",
      " [[ 0  4  8]\n",
      " [ 1  5  9]\n",
      " [ 2  6 10]\n",
      " [ 3  7 11]]\n"
     ]
    }
   ],
   "source": [
    "import numpy as np\n",
    "arr = np.arange(12)\n",
    "newarr = arr.reshape(4,3)\n",
    "print(\"\\n\",newarr)\n",
    "newarr =arr.reshape((4,3),order='F')\n",
    "print(\"\\n\",newarr)"
   ]
  },
  {
   "cell_type": "code",
   "execution_count": 3,
   "id": "38e524bb-c25b-4f6c-b626-abbfc52e4c7b",
   "metadata": {},
   "outputs": [
    {
     "name": "stdout",
     "output_type": "stream",
     "text": [
      "[[ 1  2  3  4  9 10]\n",
      " [ 5  6  7  8 11 12]]\n",
      "\n",
      " [[[ 1  2]\n",
      "  [ 3  4]]\n",
      "\n",
      " [[ 9 10]\n",
      "  [ 5  6]]\n",
      "\n",
      " [[ 7  8]\n",
      "  [11 12]]]\n",
      "\n",
      " reshape(3,-1) \n",
      " [[ 1  2  3  4]\n",
      " [ 9 10  5  6]\n",
      " [ 7  8 11 12]]\n"
     ]
    }
   ],
   "source": [
    "import numpy as np\n",
    "arr = np.array([[1,2,3,4,9,10], [5,6,7,8,11,12]])\n",
    "print(arr)\n",
    "newarr =arr.reshape(3,2,2)\n",
    "print(\"\\n\",newarr)\n",
    "newarr1 = newarr.reshape(3, -1)\n",
    "print(\"\\n reshape(3,-1) \\n\",newarr1)"
   ]
  },
  {
   "cell_type": "code",
   "execution_count": 7,
   "id": "9b3cf9fa-6e89-44b9-b9c7-29afefc920af",
   "metadata": {},
   "outputs": [
    {
     "name": "stdout",
     "output_type": "stream",
     "text": [
      "original_array:\n",
      " [[10 20]\n",
      " [30 40]]\n",
      "Flattened array:\n",
      " [999  20  30  40]\n",
      "Original array:\n",
      " [[10 20]\n",
      " [30 40]]\n",
      "Ravelled array:\n",
      " 888\n",
      "Original arra:\n",
      " [[10 20]\n",
      " [30 40]]\n"
     ]
    }
   ],
   "source": [
    "#FLATTENING OR REVALING:\n",
    "import numpy as np \n",
    "original_array= np.array([[10,20], [30,40]])\n",
    "print(\"original_array:\\n\",original_array)\n",
    "flattened_array = original_array.flatten()\n",
    "flattened_array[0] =999\n",
    "print(\"Flattened array:\\n\", flattened_array)\n",
    "print(\"Original array:\\n\", original_array)\n",
    "reveled_array =original_array.ravel()\n",
    "raveled_array =888\n",
    "print(\"Ravelled array:\\n\",raveled_array)\n",
    "print(\"Original arra:\\n\", original_array)"
   ]
  },
  {
   "cell_type": "code",
   "execution_count": 9,
   "id": "1c935214-141e-4d0d-ba70-190bfa250040",
   "metadata": {},
   "outputs": [
    {
     "name": "stdout",
     "output_type": "stream",
     "text": [
      "Greater than:\n",
      " [[False  True]\n",
      " [False False]]\n",
      "\n",
      "Less than:\n",
      " [[ True False]\n",
      " [False  True]]\n",
      "\n",
      "Equal to:\n",
      " [[False False]\n",
      " [ True False]]\n",
      "Array-wise comparison 1: True\n",
      "Array-wise comparison 2: False\n"
     ]
    }
   ],
   "source": [
    "import numpy as np\n",
    "arr1 = np.array([[1,2,], [3,4]])\n",
    "arr2 = np.array([[2,1], [3,5]])\n",
    "greater_than =arr1>arr2\n",
    "less_than =arr1<arr2\n",
    "equal_to =arr1==arr2\n",
    "print(\"Greater than:\\n\", greater_than)\n",
    "print(\"\\nLess than:\\n\", less_than)\n",
    "print(\"\\nEqual to:\\n\", equal_to)\n",
    "arr3=np.array([1,2,3])\n",
    "arr4=np.array([1,2,3])\n",
    "arr5=np.array([1,2,4])\n",
    "result1=np.array_equal(arr3,arr4)\n",
    "result2=np.array_equal(arr3,arr5)\n",
    "print(\"Array-wise comparison 1:\", result1)\n",
    "print(\"Array-wise comparison 2:\",result2)\n"
   ]
  },
  {
   "cell_type": "code",
   "execution_count": 12,
   "id": "24f32988-767d-48b0-a251-a2f51f24ce71",
   "metadata": {},
   "outputs": [
    {
     "name": "stdout",
     "output_type": "stream",
     "text": [
      "x= [0 1 2 3 4 5 6 7 8 9]\n",
      "\n",
      " x[:5]= [0 1 2 3 4]\n",
      "\n",
      " x[5:]= [5 6 7 8 9]\n",
      "\n",
      " x[4:7]= [4 5 6]\n",
      "\n",
      " x[::2]= [0 2 4 6 8]\n",
      "\n",
      " x[1::2]= [1 3 5 7 9]\n",
      "\n",
      " x[::-1]= [9 8 7 6 5 4 3 2 1 0]\n",
      "\n",
      " x[5::-2]= [5 3 1]\n"
     ]
    }
   ],
   "source": [
    "import numpy as np\n",
    "x=np.arange(10)\n",
    "print(\"x=\",x)\n",
    "print(\"\\n x[:5]=\",x[:5])\n",
    "print(\"\\n x[5:]=\",x[5:])\n",
    "print(\"\\n x[4:7]=\",x[4:7])\n",
    "print(\"\\n x[::2]=\",x[::2])\n",
    "print(\"\\n x[1::2]=\",x[1::2])\n",
    "print(\"\\n x[::-1]=\",x[::-1])\n",
    "print(\"\\n x[5::-2]=\",x[5::-2])\n",
    "      \n",
    "      "
   ]
  },
  {
   "cell_type": "code",
   "execution_count": 13,
   "id": "1f1ef8be-b89c-4e97-bcda-3dc822a1e65e",
   "metadata": {},
   "outputs": [
    {
     "name": "stdout",
     "output_type": "stream",
     "text": [
      "[0 1 2 3 4 5 6 7 8 9]\n",
      "\n",
      " After broadcasting1 [0 1 2 3 4 2 2 2 2 2]\n",
      "\n",
      " After broadcasting2 [100   1 100   3 100   2 100   2 100   2]\n"
     ]
    }
   ],
   "source": [
    "import numpy as np\n",
    "x= np.arange(10)\n",
    "print(x)\n",
    "x[5:] = 2\n",
    "print(\"\\n After broadcasting1\",x)\n",
    "x[::2]=100\n",
    "print(\"\\n After broadcasting2\",x)"
   ]
  },
  {
   "cell_type": "code",
   "execution_count": 14,
   "id": "02e1370e-65d0-4266-9b56-dcdb01f74110",
   "metadata": {},
   "outputs": [
    {
     "name": "stdout",
     "output_type": "stream",
     "text": [
      "[12  5  2  4]\n",
      "1\n",
      "8\n",
      "7\n",
      "[12  5  2  4]\n"
     ]
    }
   ],
   "source": [
    "x2 = np.array([[12,5,2,4], [7,6,8,8], [1,6,7,7]])\n",
    "print(x2[0])\n",
    "print(x2[2,0])\n",
    "print(x2[1][2])\n",
    "print(x2[2,-1])\n",
    "print(x2[0])"
   ]
  },
  {
   "cell_type": "code",
   "execution_count": 18,
   "id": "9cb35554-48cd-43a1-8116-7baeeb2f7b5f",
   "metadata": {},
   "outputs": [
    {
     "name": "stdout",
     "output_type": "stream",
     "text": [
      "x2= [[12  5  2  4]\n",
      " [ 7  6  8  8]\n",
      " [ 1  6  7  7]]\n",
      "\n",
      " x2[:2, :3]=\n",
      " [[12  5  2]\n",
      " [ 7  6  8]]\n",
      "\n",
      " x2[:3, ::2]=\n",
      " [[12  2]\n",
      " [ 7  8]\n",
      " [ 1  7]]\n",
      "\n",
      " x2[::-1, ::-1]=\n",
      " [[ 7  7  6  1]\n",
      " [ 8  8  6  7]\n",
      " [ 4  2  5 12]]\n",
      "\n",
      " x2[::-1]=\n",
      " [[ 1  6  7  7]\n",
      " [ 7  6  8  8]\n",
      " [12  5  2  4]]\n"
     ]
    }
   ],
   "source": [
    "#slicing n-d array\n",
    "import numpy as np\n",
    "x2=np.array([[12,5,2,4], [7,6,8,8], [1,6,7,7]])\n",
    "print(\"x2=\",x2)\n",
    "print(\"\\n x2[:2, :3]=\\n\",x2[:2, :3])\n",
    "print(\"\\n x2[:3, ::2]=\\n\",x2[:3, ::2])\n",
    "print(\"\\n x2[::-1, ::-1]=\\n\",x2[::-1, ::-1])\n",
    "print(\"\\n x2[::-1]=\\n\",x2[::-1])\n",
    "\n",
    "\n",
    "\n",
    "\n",
    "\n"
   ]
  },
  {
   "cell_type": "code",
   "execution_count": 19,
   "id": "f297e51b-e869-4f1c-b12a-217cd5ac1060",
   "metadata": {},
   "outputs": [
    {
     "name": "stdout",
     "output_type": "stream",
     "text": [
      "a= \n",
      " [[ 0  1  2  3]\n",
      " [ 4  5  6  7]\n",
      " [ 8  9 10 11]]\n",
      "b= \n",
      " [ 5  6  7  8  9 10 11]\n",
      "a=\n",
      " [[0 1 2 3]\n",
      " [4 1 1 1]\n",
      " [1 1 1 1]]\n"
     ]
    }
   ],
   "source": [
    "import numpy as np\n",
    "a= np.arange(12).reshape(3,4)\n",
    "print(\"a= \\n\",a)\n",
    "b=a>4\n",
    "print(\"b= \\n\",a[b])\n",
    "a[b]=1\n",
    "print(\"a=\\n\",a)"
   ]
  },
  {
   "cell_type": "code",
   "execution_count": 21,
   "id": "4c2dacd5-9893-4f30-8f6b-e2e0dd2cc90d",
   "metadata": {},
   "outputs": [
    {
     "name": "stdout",
     "output_type": "stream",
     "text": [
      "['Bob' 'Joe' 'Will' 'Bob' 'Will' 'Joe' 'Joe']\n",
      "data=\n",
      " [[ 0  1  2  3]\n",
      " [ 4  5  6  7]\n",
      " [ 8  9 10 11]\n",
      " [12 13 14 15]\n",
      " [16 17 18 19]\n",
      " [20 21 22 23]\n",
      " [24 25 26 27]]\n",
      "names bool == \n",
      " []\n",
      "names == 'Bob'\n",
      " []\n",
      "names == 'Bob',2: \n",
      " []\n",
      "names == 'Bob',3\n",
      " []\n"
     ]
    }
   ],
   "source": [
    "import numpy as np\n",
    "names =np.array(['Bob','Joe','Will','Bob','Will','Joe','Joe'])\n",
    "data= np.arange(28).reshape(7,4)\n",
    "print(names)\n",
    "print(\"data=\\n\", data)\n",
    "print(\"names bool == \\n\",data[names =='B0b'])\n",
    "print(\"names == 'Bob'\\n\",data[names =='B0b'])\n",
    "print(\"names == 'Bob',2: \\n\",data[names =='B0b',2:])\n",
    "print(\"names == 'Bob',3\\n\", data[names =='B0b',3])\n",
    "      "
   ]
  },
  {
   "cell_type": "code",
   "execution_count": 29,
   "id": "5bd4dc20-4b2f-4194-94a9-29128d6c7e39",
   "metadata": {},
   "outputs": [
    {
     "name": "stdout",
     "output_type": "stream",
     "text": [
      "[[ 0  1  2  3]\n",
      " [ 4  5  6  7]\n",
      " [ 8  9 10 11]]\n",
      "Transpose using .T\n",
      "[[ 0  4  8]\n",
      " [ 1  5  9]\n",
      " [ 2  6 10]\n",
      " [ 3  7 11]]\n",
      "Transpose using the transpose( function\n",
      "[[ 0  4  8]\n",
      " [ 1  5  9]\n",
      " [ 2  6 10]\n",
      " [ 3  7 11]]\n"
     ]
    }
   ],
   "source": [
    "import numpy as np\n",
    "arr=np.arange(12).reshape((3,4))\n",
    "print(arr)\n",
    "print(\"Transpose using .T\")\n",
    "print(arr.T)\n",
    "print(\"Transpose using the transpose( function\")\n",
    "print(np.transpose(arr))"
   ]
  },
  {
   "cell_type": "code",
   "execution_count": 31,
   "id": "b1ab337a-503e-4dff-b98e-6151e0c0b4a5",
   "metadata": {},
   "outputs": [
    {
     "name": "stdout",
     "output_type": "stream",
     "text": [
      "[[ 0  4  8]\n",
      " [ 1  5  9]\n",
      " [ 2  6 10]\n",
      " [ 3  7 11]]\n",
      "[[ 0  1  2  3]\n",
      " [ 4  5  6  7]\n",
      " [ 8  9 10 11]]\n"
     ]
    }
   ],
   "source": [
    "import numpy as np\n",
    "arr1=np.transpose(arr,(1,0))\n",
    "print(arr1)\n",
    "arr2=np.transpose(arr,(0,1))\n",
    "print(arr2)"
   ]
  },
  {
   "cell_type": "code",
   "execution_count": 32,
   "id": "5fdea441-f0ee-48db-8eeb-7b0af30276fa",
   "metadata": {},
   "outputs": [
    {
     "name": "stdout",
     "output_type": "stream",
     "text": [
      "Dot product of arr and arr2:\n",
      "[[ 14  38  62]\n",
      " [ 38 126 214]\n",
      " [ 62 214 366]]\n"
     ]
    }
   ],
   "source": [
    "import numpy as np\n",
    "arr = np.arange(12).reshape(3,4)\n",
    "print(\"Dot product of arr and arr2:\")\n",
    "print(np.dot(arr,arr.T))"
   ]
  },
  {
   "cell_type": "code",
   "execution_count": 33,
   "id": "dcfd9ae6-c98b-41e1-b8b8-0def8e61ab57",
   "metadata": {},
   "outputs": [
    {
     "name": "stdout",
     "output_type": "stream",
     "text": [
      "[[ 0  1  2  3]\n",
      " [ 4  5  6  7]\n",
      " [ 8  9 10 11]]\n",
      "Swape axes 0 and 1:\n",
      "[[ 0  4  8]\n",
      " [ 1  5  9]\n",
      " [ 2  6 10]\n",
      " [ 3  7 11]]\n"
     ]
    }
   ],
   "source": [
    "import numpy as np\n",
    "arr= np.arange(12).reshape((3,4))\n",
    "print(arr)\n",
    "print(\"Swape axes 0 and 1:\")\n",
    "print(np.swapaxes (arr, 0,1))"
   ]
  },
  {
   "cell_type": "code",
   "execution_count": 36,
   "id": "0250e891-b56d-4cb7-9e16-a11dcd1008f4",
   "metadata": {},
   "outputs": [
    {
     "name": "stdout",
     "output_type": "stream",
     "text": [
      "Result of element-wise multiplicatipon:\n",
      "[[ 5 12]\n",
      " [21 24]]\n",
      "Result of ematrix multiplication:\n",
      "[[19 22]\n",
      " [36 42]]\n"
     ]
    }
   ],
   "source": [
    "import numpy as np\n",
    "arr1= np.array([[1,2], [3,3]])\n",
    "arr2=np.array([[5,6], [7,8]])\n",
    "result =np.multiply(arr1,arr2)\n",
    "print(\"Result of element - wise                       \n",
    "print(result)\n",
    "result = np.matmul(arr1,arr2)\n",
    "print(\"Result of matrix multiplication:\")\n",
    "print(result)\n",
    "result=np.dot(arr1,arr2)\n",
    "print(\"Result of matrix multiplication:\")\n",
    "print(result)"
   ]
  },
  {
   "cell_type": "code",
   "execution_count": null,
   "id": "65d2853f-b344-45cf-91af-d74246e1b98e",
   "metadata": {},
   "outputs": [],
   "source": []
  }
 ],
 "metadata": {
  "kernelspec": {
   "display_name": "Python 3 (ipykernel)",
   "language": "python",
   "name": "python3"
  },
  "language_info": {
   "codemirror_mode": {
    "name": "ipython",
    "version": 3
   },
   "file_extension": ".py",
   "mimetype": "text/x-python",
   "name": "python",
   "nbconvert_exporter": "python",
   "pygments_lexer": "ipython3",
   "version": "3.13.2"
  }
 },
 "nbformat": 4,
 "nbformat_minor": 5
}
