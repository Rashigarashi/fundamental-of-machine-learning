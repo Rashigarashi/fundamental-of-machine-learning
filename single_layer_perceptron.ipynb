{
  "nbformat": 4,
  "nbformat_minor": 0,
  "metadata": {
    "colab": {
      "provenance": [],
      "authorship_tag": "ABX9TyONb9sUtLTP0oa2T8ajBKCz",
      "include_colab_link": true
    },
    "kernelspec": {
      "name": "python3",
      "display_name": "Python 3"
    },
    "language_info": {
      "name": "python"
    }
  },
  "cells": [
    {
      "cell_type": "markdown",
      "metadata": {
        "id": "view-in-github",
        "colab_type": "text"
      },
      "source": [
        "<a href=\"https://colab.research.google.com/github/Rashigarashi/fundamental-of-machine-learning/blob/main/single_layer_perceptron.ipynb\" target=\"_parent\"><img src=\"https://colab.research.google.com/assets/colab-badge.svg\" alt=\"Open In Colab\"/></a>"
      ]
    },
    {
      "cell_type": "markdown",
      "source": [
        "single layer perceptron"
      ],
      "metadata": {
        "id": "UCV5Yq2mL4vw"
      }
    },
    {
      "cell_type": "code",
      "execution_count": 1,
      "metadata": {
        "colab": {
          "base_uri": "https://localhost:8080/"
        },
        "id": "PpRj9P-LLyTN",
        "outputId": "759d57b0-aa28-4a0f-ba04-086d4b62aae1"
      },
      "outputs": [
        {
          "output_type": "stream",
          "name": "stdout",
          "text": [
            "Initial weights: [ 0.3 -0.2]\n",
            "Initial bias: -0.4\n",
            "Learning rate: 0.2\n",
            "\n",
            "Training started...\n",
            "\n",
            "Epoch 1\n",
            "Input: [0 0], Desired: 0, Output: 0, Error: 0 → No change\n",
            "Input: [0 1], Desired: 0, Output: 0, Error: 0 → No change\n",
            "Input: [1 0], Desired: 0, Output: 0, Error: 0 → No change\n",
            "Input: [1 1], Desired: 1, Output: 0, Error: 1\n",
            "Updated weights: [0.5 0. ], Updated bias: -0.2\n",
            "--------------------------------------------------\n",
            "Epoch 2\n",
            "Input: [0 0], Desired: 0, Output: 0, Error: 0 → No change\n",
            "Input: [0 1], Desired: 0, Output: 0, Error: 0 → No change\n",
            "Input: [1 0], Desired: 0, Output: 1, Error: -1\n",
            "Updated weights: [0.3 0. ], Updated bias: -0.4\n",
            "Input: [1 1], Desired: 1, Output: 0, Error: 1\n",
            "Updated weights: [0.5 0.2], Updated bias: -0.2\n",
            "--------------------------------------------------\n",
            "Epoch 3\n",
            "Input: [0 0], Desired: 0, Output: 0, Error: 0 → No change\n",
            "Input: [0 1], Desired: 0, Output: 1, Error: -1\n",
            "Updated weights: [0.5 0. ], Updated bias: -0.4\n",
            "Input: [1 0], Desired: 0, Output: 1, Error: -1\n",
            "Updated weights: [0.3 0. ], Updated bias: -0.6000000000000001\n",
            "Input: [1 1], Desired: 1, Output: 0, Error: 1\n",
            "Updated weights: [0.5 0.2], Updated bias: -0.4000000000000001\n",
            "--------------------------------------------------\n",
            "Epoch 4\n",
            "Input: [0 0], Desired: 0, Output: 0, Error: 0 → No change\n",
            "Input: [0 1], Desired: 0, Output: 0, Error: 0 → No change\n",
            "Input: [1 0], Desired: 0, Output: 1, Error: -1\n",
            "Updated weights: [0.3 0.2], Updated bias: -0.6000000000000001\n",
            "Input: [1 1], Desired: 1, Output: 0, Error: 1\n",
            "Updated weights: [0.5 0.4], Updated bias: -0.4000000000000001\n",
            "--------------------------------------------------\n",
            "Epoch 5\n",
            "Input: [0 0], Desired: 0, Output: 0, Error: 0 → No change\n",
            "Input: [0 1], Desired: 0, Output: 0, Error: 0 → No change\n",
            "Input: [1 0], Desired: 0, Output: 1, Error: -1\n",
            "Updated weights: [0.3 0.4], Updated bias: -0.6000000000000001\n",
            "Input: [1 1], Desired: 1, Output: 1, Error: 0 → No change\n",
            "--------------------------------------------------\n",
            "Epoch 6\n",
            "Input: [0 0], Desired: 0, Output: 0, Error: 0 → No change\n",
            "Input: [0 1], Desired: 0, Output: 0, Error: 0 → No change\n",
            "Input: [1 0], Desired: 0, Output: 0, Error: 0 → No change\n",
            "Input: [1 1], Desired: 1, Output: 1, Error: 0 → No change\n",
            "--------------------------------------------------\n",
            "\n",
            "Training completed!\n",
            "Final weights: [0.3 0.4]\n",
            "Final bias: -0.6000000000000001\n",
            "\n",
            "Testing AND function:\n",
            "Input: [0 0] → Output: 0\n",
            "Input: [0 1] → Output: 0\n",
            "Input: [1 0] → Output: 0\n",
            "Input: [1 1] → Output: 1\n"
          ]
        }
      ],
      "source": [
        "import numpy as np\n",
        "X = np.array([[0, 0],\n",
        "              [0, 1],\n",
        "              [1, 0],\n",
        "              [1, 1]])\n",
        "\n",
        "Y = np.array([0, 0, 0, 1])\n",
        "\n",
        "\n",
        "weights = np.array([0.3, -0.2])\n",
        "bias = -0.4\n",
        "learning_rate = 0.2\n",
        "\n",
        "\n",
        "def activation(net):\n",
        "    return 1 if net >= 0 else 0\n",
        "\n",
        "epoch = 0\n",
        "converged = False\n",
        "\n",
        "print(\"Initial weights:\", weights)\n",
        "print(\"Initial bias:\", bias)\n",
        "print(\"Learning rate:\", learning_rate)\n",
        "print(\"\\nTraining started...\\n\")\n",
        "\n",
        "\n",
        "while not converged:\n",
        "    epoch += 1\n",
        "    print(f\"Epoch {epoch}\")\n",
        "    converged = True\n",
        "\n",
        "    for i in range(len(X)):\n",
        "        x_input = X[i]\n",
        "        desired = Y[i]\n",
        "\n",
        "\n",
        "        net = np.dot(weights, x_input) + bias\n",
        "        output = activation(net)\n",
        "\n",
        "\n",
        "        error = desired - output\n",
        "\n",
        "        if error != 0:\n",
        "            weights = weights + learning_rate * error * x_input\n",
        "            bias = bias + learning_rate * error\n",
        "            converged = False\n",
        "            print(f\"Input: {x_input}, Desired: {desired}, Output: {output}, Error: {error}\")\n",
        "            print(f\"Updated weights: {weights}, Updated bias: {bias}\")\n",
        "        else:\n",
        "            print(f\"Input: {x_input}, Desired: {desired}, Output: {output}, Error: {error} → No change\")\n",
        "\n",
        "    print(\"--------------------------------------------------\")\n",
        "\n",
        "print(\"\\nTraining completed!\")\n",
        "print(\"Final weights:\", weights)\n",
        "print(\"Final bias:\", bias)\n",
        "\n",
        "print(\"\\nTesting AND function:\")\n",
        "for i in range(len(X)):\n",
        "    net = np.dot(weights, X[i]) + bias\n",
        "    output = activation(net)\n",
        "    print(f\"Input: {X[i]} → Output: {output}\")\n",
        ""
      ]
    }
  ]
}