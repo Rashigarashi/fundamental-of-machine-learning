{
 "cells": [
  {
   "cell_type": "code",
   "execution_count": 1,
   "id": "02a44d15-cb08-4b34-9eea-829cde74604d",
   "metadata": {},
   "outputs": [
    {
     "name": "stdout",
     "output_type": "stream",
     "text": [
      "0    10\n",
      "1    20\n",
      "2    30\n",
      "3    40\n",
      "4    50\n",
      "dtype: int64\n"
     ]
    }
   ],
   "source": [
    "import pandas as pd\n",
    "data = [10, 20, 30, 40, 50] \n",
    "series = pd. Series (data) \n",
    "print(series) \n"
   ]
  },
  {
   "cell_type": "code",
   "execution_count": 5,
   "id": "5cfa56dc-a5da-4f0c-b7f4-5fe4deaa908f",
   "metadata": {},
   "outputs": [
    {
     "name": "stdout",
     "output_type": "stream",
     "text": [
      "x     1\n",
      "y     7\n",
      "z    21\n",
      "dtype: int64\n"
     ]
    }
   ],
   "source": [
    "import pandas as pd\n",
    "a = [1, 7, 21]\n",
    "myvar = pd.Series (a, index = [\"x\", \"y\", \"z\"]) \n",
    "print(myvar)\n"
   ]
  },
  {
   "cell_type": "code",
   "execution_count": 6,
   "id": "103919d2-1742-4242-a7c9-fa9608b7a724",
   "metadata": {},
   "outputs": [
    {
     "name": "stdout",
     "output_type": "stream",
     "text": [
      "series>25= \n",
      " 0    False\n",
      "1    False\n",
      "2     True\n",
      "3     True\n",
      "4     True\n",
      "dtype: bool\n",
      "Filtered Series: \n",
      " 2    30\n",
      "3    40\n",
      "4    50\n",
      "dtype: int64\n",
      "\n",
      "Series after Scalar Multiplication: \n",
      " 0     20\n",
      "1     40\n",
      "2     60\n",
      "3     80\n",
      "4    100\n",
      "dtype: int64\n"
     ]
    }
   ],
   "source": [
    "gt=series > 25 \n",
    "print(\"series>25= \\n\",gt) \n",
    "series_filtered = series [series > 25] \n",
    "print(\"Filtered Series: \\n\", series_filtered) \n",
    "# Scalar multiplication \n",
    "series_multiplied = series * 2 \n",
    "print(\"\\nSeries after Scalar Multiplication: \\n\", series_multiplied) \n"
   ]
  },
  {
   "cell_type": "code",
   "execution_count": 7,
   "id": "8b01c8b7-d371-44c9-9ee7-c399109debef",
   "metadata": {},
   "outputs": [
    {
     "name": "stdout",
     "output_type": "stream",
     "text": [
      "series= \n",
      " 0    10\n",
      "1    20\n",
      "2    30\n",
      "3    40\n",
      "4    50\n",
      "dtype: int64\n",
      "\n",
      "Series after Applying Square Root: \n",
      " 0    3.162278\n",
      "1    4.472136\n",
      "2    5.477226\n",
      "3    6.324555\n",
      "4    7.071068\n",
      "dtype: float64\n"
     ]
    }
   ],
   "source": [
    "import numpy as np \n",
    "print(\"series= \\n\",series) \n",
    "series_sqrt = np.sqrt(series) \n",
    "print(\"\\nSeries after Applying Square Root: \\n\", series_sqrt) \n"
   ]
  },
  {
   "cell_type": "code",
   "execution_count": 9,
   "id": "a944464d-091c-4d25-81cc-fe264c21ce25",
   "metadata": {},
   "outputs": [
    {
     "name": "stdout",
     "output_type": "stream",
     "text": [
      "   calories  duration\n",
      "0       420        50\n",
      "1       380        40\n",
      "2       390        45\n"
     ]
    }
   ],
   "source": [
    "import pandas as pd \n",
    "data = { \n",
    "\"calories\": [420, 380, 390], \n",
    "\"duration\": [50, 40, 45] }\n",
    "#load data into a DataFrame object: \n",
    "df = pd.DataFrame(data) \n",
    "print(df)"
   ]
  },
  {
   "cell_type": "code",
   "execution_count": 19,
   "id": "7aba9edf-4798-4463-b6a6-8ea0a366e54e",
   "metadata": {},
   "outputs": [
    {
     "name": "stdout",
     "output_type": "stream",
     "text": [
      "d    4.5\n",
      "b    7.2\n",
      "a   -5.3\n",
      "c    3.6\n",
      "dtype: float64\n"
     ]
    }
   ],
   "source": [
    "import pandas as pd\n",
    "obj = pd. Series ([4.5, 7.2, -5.3, 3.6], index= ['d', 'b', 'a', 'c']) \n",
    "print(obj) \n"
   ]
  },
  {
   "cell_type": "code",
   "execution_count": 25,
   "id": "81d02bd5-7759-4927-ad3c-2bf591ea4928",
   "metadata": {},
   "outputs": [
    {
     "name": "stdout",
     "output_type": "stream",
     "text": [
      "   A  B\n",
      "0  1  4\n",
      "1  2  5\n",
      "2  3  6\n",
      "   A   B\n",
      "0  7  10\n",
      "1  8  11\n",
      "2  9  12\n",
      "Addition: \n",
      "     A   B\n",
      "0   8  14\n",
      "1  10  16\n",
      "2  12  18\n",
      "\n",
      "Subtraction: \n",
      "    A  B\n",
      "0 -6 -6\n",
      "1 -6 -6\n",
      "2 -6 -6\n",
      "\n",
      "Multiplication: \n",
      "     A   B\n",
      "0   7  40\n",
      "1  16  55\n",
      "2  27  72\n",
      "\n",
      "Division: \n",
      "           A         B\n",
      "0  0.142857  0.400000\n",
      "1  0.250000  0.454545\n",
      "2  0.333333  0.500000\n"
     ]
    }
   ],
   "source": [
    "import pandas as pd\n",
    "df1 = pd.DataFrame({'A': [1, 2, 3], 'B': [4, 5, 6]}) \n",
    "df2 = pd.DataFrame({'A': [7, 8, 9], 'B': [10, 11, 12]}) \n",
    "print(df1) \n",
    "print(df2)\n",
    "print(\"Addition: \\n\", df1+df2)  \n",
    "print(\"\\nSubtraction: \\n\", df1 - df2)\n",
    "print(\"\\nMultiplication: \\n\", df1*df2) \n",
    "print(\"\\nDivision: \\n\", df1 / df2) \n"
   ]
  },
  {
   "cell_type": "code",
   "execution_count": 30,
   "id": "f7e22f2f-3cc4-4f32-bd79-6e1c38a55870",
   "metadata": {},
   "outputs": [
    {
     "name": "stdout",
     "output_type": "stream",
     "text": [
      "   A  B\n",
      "0  1  4\n",
      "1  2  5\n",
      "2  3  6\n",
      "   B   C\n",
      "1  7  10\n",
      "2  8  11\n",
      "3  9  12\n",
      "Result of df3df4 with alignment: \n",
      "     A     B   C\n",
      "0 NaN   NaN NaN\n",
      "1 NaN  12.0 NaN\n",
      "2 NaN  14.0 NaN\n",
      "3 NaN   NaN NaN\n"
     ]
    }
   ],
   "source": [
    "import pandas as pd\n",
    "df3 = pd.DataFrame({'A': [1, 2, 3], 'B': [4, 5, 6]}, index= [0, 1, 2]) \n",
    "df4= pd.DataFrame({'B': [7, 8, 9], 'C': [10, 11, 12]}, index= [1, 2, 3]) \n",
    "print(df3) \n",
    "print(df4) \n",
    "result = df3 + df4 \n",
    "print(\"Result of df3df4 with alignment: \\n\", result) \n"
   ]
  },
  {
   "cell_type": "code",
   "execution_count": 31,
   "id": "7f864eeb-bb96-45cb-a376-2ac0ae8540ab",
   "metadata": {},
   "outputs": [
    {
     "name": "stdout",
     "output_type": "stream",
     "text": [
      "\n",
      "Result of df3.add(df4) with fill_value=0:\n",
      "      A     B     C\n",
      "0  1.0   4.0   NaN\n",
      "1  2.0  12.0  10.0\n",
      "2  3.0  14.0  11.0\n",
      "3  NaN   9.0  12.0\n"
     ]
    }
   ],
   "source": [
    "result_add = df3.add(df4, fill_value=0) \n",
    "print(\"\\nResult of df3.add(df4) with fill_value=0:\\n\", result_add)"
   ]
  },
  {
   "cell_type": "code",
   "execution_count": 32,
   "id": "baffcf06-2330-4bb0-93bd-920706aedd69",
   "metadata": {},
   "outputs": [
    {
     "name": "stdout",
     "output_type": "stream",
     "text": [
      "a    1\n",
      "b    2\n",
      "c    3\n",
      "d    0\n",
      "dtype: int64\n"
     ]
    }
   ],
   "source": [
    "import pandas as pd\n",
    "obj = pd.Series (range(4), index=['d', 'a', 'b', 'c']) \n",
    "df_sort_series = obj.sort_index() \n",
    "print (df_sort_series) \n"
   ]
  },
  {
   "cell_type": "code",
   "execution_count": 35,
   "id": "1d65296c-77c5-440b-bdc3-b002e4fb15b2",
   "metadata": {},
   "outputs": [
    {
     "name": "stdout",
     "output_type": "stream",
     "text": [
      "Rank \n",
      " 0    5.5\n",
      "1    1.0\n",
      "2    5.5\n",
      "3    4.0\n",
      "4    3.0\n",
      "5    2.0\n",
      "6    7.0\n",
      "dtype: float64\n"
     ]
    }
   ],
   "source": [
    "import pandas as pd \n",
    "obj = pd.Series ([7, -5, 7, 3, 2, 0, 41])  \n",
    "df_rank =obj.rank() \n",
    "print(\"Rank \\n\", df_rank) \n"
   ]
  },
  {
   "cell_type": "code",
   "execution_count": 36,
   "id": "47495ff8-036e-4249-9e8e-881d645fec41",
   "metadata": {},
   "outputs": [
    {
     "name": "stdout",
     "output_type": "stream",
     "text": [
      "obj ['b']= \n",
      " 1.0\n",
      "obj [1]= \n",
      " 1.0\n",
      "obj [2:4]= \n",
      " c    2.0\n",
      "d    3.0\n",
      "dtype: float64\n",
      "obj [['b', 'a', 'd']]= \n",
      " b    1.0\n",
      "a    0.0\n",
      "d    3.0\n",
      "dtype: float64\n",
      "obj [b:d]= \n",
      " b    1.0\n",
      "c    2.0\n",
      "d    3.0\n",
      "dtype: float64\n",
      "obj [[1, 3]]= \n",
      " b    1.0\n",
      "d    3.0\n",
      "dtype: float64\n",
      "obj [obj < 2]= \n",
      " a    0.0\n",
      "b    1.0\n",
      "dtype: float64\n"
     ]
    },
    {
     "name": "stderr",
     "output_type": "stream",
     "text": [
      "C:\\Users\\rasir\\AppData\\Local\\Temp\\ipykernel_14136\\3635843064.py:4: FutureWarning: Series.__getitem__ treating keys as positions is deprecated. In a future version, integer keys will always be treated as labels (consistent with DataFrame behavior). To access a value by position, use `ser.iloc[pos]`\n",
      "  print(\"obj [1]= \\n\", obj [1])\n",
      "C:\\Users\\rasir\\AppData\\Local\\Temp\\ipykernel_14136\\3635843064.py:8: FutureWarning: Series.__getitem__ treating keys as positions is deprecated. In a future version, integer keys will always be treated as labels (consistent with DataFrame behavior). To access a value by position, use `ser.iloc[pos]`\n",
      "  print(\"obj [[1, 3]]= \\n\", obj [[1, 3]])\n"
     ]
    }
   ],
   "source": [
    "import pandas as pd\n",
    "obj = pd.Series (np.arange(4.), index=['a', 'b', 'c', 'd']) \n",
    "print(\"obj ['b']= \\n\",obj ['b']) \n",
    "print(\"obj [1]= \\n\", obj [1]) \n",
    "print(\"obj [2:4]= \\n\",obj [2:4]) \n",
    "print(\"obj [['b', 'a', 'd']]= \\n\", obj [['b', 'a', 'd']]) \n",
    "print(\"obj [b:d]= \\n\",obj ['b': 'd']) #no n-1 concept \n",
    "print(\"obj [[1, 3]]= \\n\", obj [[1, 3]]) \n",
    "print(\"obj [obj < 2]= \\n\", obj [obj < 2]) \n"
   ]
  },
  {
   "cell_type": "code",
   "execution_count": 37,
   "id": "a5043171-4d61-40ca-a2dd-172e808ca3b3",
   "metadata": {},
   "outputs": [
    {
     "name": "stdout",
     "output_type": "stream",
     "text": [
      "0      blue\n",
      "2    purple\n",
      "4    yellow\n",
      "dtype: object\n"
     ]
    },
    {
     "data": {
      "text/plain": [
       "0      blue\n",
       "1      blue\n",
       "2    purple\n",
       "3    purple\n",
       "4    yellow\n",
       "5    yellow\n",
       "dtype: object"
      ]
     },
     "execution_count": 37,
     "metadata": {},
     "output_type": "execute_result"
    }
   ],
   "source": [
    "import pandas as pd\n",
    "obj3 = pd.Series(['blue', 'purple', 'yellow'], index=[0, 2, 4]) \n",
    "print(obj3) \n",
    "obj4= obj3. reindex (range(6), method='ffill') #forward-fills the values \n",
    "obj4 \n"
   ]
  }
 ],
 "metadata": {
  "kernelspec": {
   "display_name": "Python 3 (ipykernel)",
   "language": "python",
   "name": "python3"
  },
  "language_info": {
   "codemirror_mode": {
    "name": "ipython",
    "version": 3
   },
   "file_extension": ".py",
   "mimetype": "text/x-python",
   "name": "python",
   "nbconvert_exporter": "python",
   "pygments_lexer": "ipython3",
   "version": "3.13.2"
  }
 },
 "nbformat": 4,
 "nbformat_minor": 5
}
